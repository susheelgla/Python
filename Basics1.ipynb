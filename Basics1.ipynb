{
  "nbformat": 4,
  "nbformat_minor": 0,
  "metadata": {
    "colab": {
      "name": "Basics1.ipynb",
      "provenance": [],
      "collapsed_sections": [],
      "authorship_tag": "ABX9TyPRlfnicfkovsJ0JuJWwA0g",
      "include_colab_link": true
    },
    "kernelspec": {
      "name": "python3",
      "display_name": "Python 3"
    },
    "language_info": {
      "name": "python"
    }
  },
  "cells": [
    {
      "cell_type": "markdown",
      "metadata": {
        "id": "view-in-github",
        "colab_type": "text"
      },
      "source": [
        "<a href=\"https://colab.research.google.com/github/susheelgla/Python/blob/main/Basics1.ipynb\" target=\"_parent\"><img src=\"https://colab.research.google.com/assets/colab-badge.svg\" alt=\"Open In Colab\"/></a>"
      ]
    },
    {
      "cell_type": "code",
      "metadata": {
        "colab": {
          "base_uri": "https://localhost:8080/"
        },
        "id": "qhQGp4x1Ebg3",
        "outputId": "be75e80c-61e2-41cd-8a33-c4caa5d8afba"
      },
      "source": [
        "def print_factors(x):\n",
        "   print(\"The factors of\",x,\"are:\")\n",
        "   for i in range(1, x + 1):\n",
        "       if x % i == 0:\n",
        "           print(i)\n",
        "\n",
        "num = 320\n",
        "\n",
        "print_factors(num)"
      ],
      "execution_count": null,
      "outputs": [
        {
          "output_type": "stream",
          "text": [
            "The factors of 320 are:\n",
            "1\n",
            "2\n",
            "4\n",
            "5\n",
            "8\n",
            "10\n",
            "16\n",
            "20\n",
            "32\n",
            "40\n",
            "64\n",
            "80\n",
            "160\n",
            "320\n"
          ],
          "name": "stdout"
        }
      ]
    },
    {
      "cell_type": "code",
      "metadata": {
        "id": "1bGvc0JrIDWr"
      },
      "source": [
        ""
      ],
      "execution_count": null,
      "outputs": []
    },
    {
      "cell_type": "code",
      "metadata": {
        "id": "FRkbWc9YQnku"
      },
      "source": [
        "s1='blooper'"
      ],
      "execution_count": null,
      "outputs": []
    },
    {
      "cell_type": "code",
      "metadata": {
        "colab": {
          "base_uri": "https://localhost:8080/",
          "height": 35
        },
        "id": "98zilOn5RqD1",
        "outputId": "50a39a4f-c40e-4191-ee57-b0f32ab569db"
      },
      "source": [
        "s1[-5]"
      ],
      "execution_count": null,
      "outputs": [
        {
          "output_type": "execute_result",
          "data": {
            "application/vnd.google.colaboratory.intrinsic+json": {
              "type": "string"
            },
            "text/plain": [
              "'o'"
            ]
          },
          "metadata": {
            "tags": []
          },
          "execution_count": 11
        }
      ]
    },
    {
      "cell_type": "code",
      "metadata": {
        "colab": {
          "base_uri": "https://localhost:8080/",
          "height": 35
        },
        "id": "hXDJoeS4QvmU",
        "outputId": "601f10cb-df3d-4f11-8719-e76f5f74638f"
      },
      "source": [
        "s1"
      ],
      "execution_count": null,
      "outputs": [
        {
          "output_type": "execute_result",
          "data": {
            "application/vnd.google.colaboratory.intrinsic+json": {
              "type": "string"
            },
            "text/plain": [
              "'blooper'"
            ]
          },
          "metadata": {
            "tags": []
          },
          "execution_count": 6
        }
      ]
    },
    {
      "cell_type": "code",
      "metadata": {
        "colab": {
          "base_uri": "https://localhost:8080/",
          "height": 129
        },
        "id": "tqDbi_RzQzGW",
        "outputId": "f7dfc108-9ef1-4cb3-f1bf-68e4ca2cdbdc"
      },
      "source": [
        "s1=\"\"blooper\"\""
      ],
      "execution_count": null,
      "outputs": [
        {
          "output_type": "error",
          "ename": "SyntaxError",
          "evalue": "ignored",
          "traceback": [
            "\u001b[0;36m  File \u001b[0;32m\"<ipython-input-8-f21d7a99c259>\"\u001b[0;36m, line \u001b[0;32m1\u001b[0m\n\u001b[0;31m    s1=\"\"blooper\"\"\u001b[0m\n\u001b[0m               ^\u001b[0m\n\u001b[0;31mSyntaxError\u001b[0m\u001b[0;31m:\u001b[0m invalid syntax\n"
          ]
        }
      ]
    },
    {
      "cell_type": "code",
      "metadata": {
        "colab": {
          "base_uri": "https://localhost:8080/"
        },
        "id": "KIrBeARmIpZw",
        "outputId": "3c2c9ff3-bc11-44b9-fc9f-628f56961ce2"
      },
      "source": [
        "print(\"I love everyone\")"
      ],
      "execution_count": null,
      "outputs": [
        {
          "output_type": "stream",
          "text": [
            "I love everyone\n"
          ],
          "name": "stdout"
        }
      ]
    },
    {
      "cell_type": "code",
      "metadata": {
        "colab": {
          "base_uri": "https://localhost:8080/",
          "height": 129
        },
        "id": "BzYwMaEjOOGC",
        "outputId": "4c128388-f794-4f1a-9b74-e0ce7067febe"
      },
      "source": [
        "if"
      ],
      "execution_count": null,
      "outputs": [
        {
          "output_type": "error",
          "ename": "SyntaxError",
          "evalue": "ignored",
          "traceback": [
            "\u001b[0;36m  File \u001b[0;32m\"<ipython-input-3-9d526553a371>\"\u001b[0;36m, line \u001b[0;32m1\u001b[0m\n\u001b[0;31m    if\u001b[0m\n\u001b[0m      ^\u001b[0m\n\u001b[0;31mSyntaxError\u001b[0m\u001b[0;31m:\u001b[0m invalid syntax\n"
          ]
        }
      ]
    },
    {
      "cell_type": "code",
      "metadata": {
        "id": "fHpaLjlEOSIA"
      },
      "source": [
        "a=5\n",
        "b=7\n"
      ],
      "execution_count": null,
      "outputs": []
    },
    {
      "cell_type": "code",
      "metadata": {
        "id": "2jtkRpy495do"
      },
      "source": [
        "a*b/a+b*b*b+b-b"
      ],
      "execution_count": null,
      "outputs": []
    },
    {
      "cell_type": "code",
      "metadata": {
        "id": "lNoJl-lZ-NzY"
      },
      "source": [
        "s1=[1,'strip',True]"
      ],
      "execution_count": null,
      "outputs": []
    },
    {
      "cell_type": "code",
      "metadata": {
        "colab": {
          "base_uri": "https://localhost:8080/"
        },
        "id": "PNHVrIh6b_UP",
        "outputId": "e7bbe204-aa1c-40b8-8075-1844f96af6db"
      },
      "source": [
        "type(s1)\n"
      ],
      "execution_count": null,
      "outputs": [
        {
          "output_type": "execute_result",
          "data": {
            "text/plain": [
              "list"
            ]
          },
          "metadata": {
            "tags": []
          },
          "execution_count": 7
        }
      ]
    },
    {
      "cell_type": "code",
      "metadata": {
        "id": "rYbqst5jrUnh"
      },
      "source": [
        "s1.append(\"fucckinng\")"
      ],
      "execution_count": null,
      "outputs": []
    },
    {
      "cell_type": "code",
      "metadata": {
        "colab": {
          "base_uri": "https://localhost:8080/"
        },
        "id": "dICtKto4r3W_",
        "outputId": "b5776dba-51a3-4215-9fc9-c974572615c4"
      },
      "source": [
        "s1"
      ],
      "execution_count": null,
      "outputs": [
        {
          "output_type": "execute_result",
          "data": {
            "text/plain": [
              "[1,\n",
              " 'strip',\n",
              " True,\n",
              " 'fucckinng',\n",
              " 'fucckinng',\n",
              " 'fucckinng',\n",
              " 'fucckinng',\n",
              " 'fucckinng']"
            ]
          },
          "metadata": {
            "tags": []
          },
          "execution_count": 10
        }
      ]
    },
    {
      "cell_type": "code",
      "metadata": {
        "colab": {
          "base_uri": "https://localhost:8080/"
        },
        "id": "dwtNabU8r-Qq",
        "outputId": "d58d7970-38cc-4376-f93c-9a857bd1a091"
      },
      "source": [
        "s1.pop(2)\n",
        "s1"
      ],
      "execution_count": null,
      "outputs": [
        {
          "output_type": "execute_result",
          "data": {
            "text/plain": [
              "[1, 'strip', 'fucckinng', 'fucckinng', 'fucckinng']"
            ]
          },
          "metadata": {
            "tags": []
          },
          "execution_count": 13
        }
      ]
    },
    {
      "cell_type": "code",
      "metadata": {
        "id": "naGwkvyvsmkf"
      },
      "source": [
        "s1=['susheel',\"appendix\",100,True,3+5j]"
      ],
      "execution_count": null,
      "outputs": []
    },
    {
      "cell_type": "code",
      "metadata": {
        "colab": {
          "base_uri": "https://localhost:8080/"
        },
        "id": "5Hnjp1dMszbW",
        "outputId": "50ce9b80-e33e-44d7-ed20-099ffff0c38e"
      },
      "source": [
        "s1\n"
      ],
      "execution_count": null,
      "outputs": [
        {
          "output_type": "execute_result",
          "data": {
            "text/plain": [
              "['susheel', 'appendix', 100, True, (3+5j)]"
            ]
          },
          "metadata": {
            "tags": []
          },
          "execution_count": 15
        }
      ]
    },
    {
      "cell_type": "code",
      "metadata": {
        "colab": {
          "base_uri": "https://localhost:8080/"
        },
        "id": "388Mndj6s17b",
        "outputId": "ef755789-a5eb-4363-f1e8-52b28de33400"
      },
      "source": [
        "s1.pop(-1)\n",
        "s1"
      ],
      "execution_count": null,
      "outputs": [
        {
          "output_type": "execute_result",
          "data": {
            "text/plain": [
              "['susheel', 'appendix', 100]"
            ]
          },
          "metadata": {
            "tags": []
          },
          "execution_count": 19
        }
      ]
    },
    {
      "cell_type": "code",
      "metadata": {
        "colab": {
          "base_uri": "https://localhost:8080/",
          "height": 180
        },
        "id": "KvKS2HE1tMFQ",
        "outputId": "62f870c7-5b99-4746-b4ef-afbc59094171"
      },
      "source": [
        "s1.pop(-2)\n",
        "s1"
      ],
      "execution_count": null,
      "outputs": [
        {
          "output_type": "error",
          "ename": "IndexError",
          "evalue": "ignored",
          "traceback": [
            "\u001b[0;31m---------------------------------------------------------------------------\u001b[0m",
            "\u001b[0;31mIndexError\u001b[0m                                Traceback (most recent call last)",
            "\u001b[0;32m<ipython-input-22-5e764c18dc52>\u001b[0m in \u001b[0;36m<module>\u001b[0;34m()\u001b[0m\n\u001b[0;32m----> 1\u001b[0;31m \u001b[0ms1\u001b[0m\u001b[0;34m.\u001b[0m\u001b[0mpop\u001b[0m\u001b[0;34m(\u001b[0m\u001b[0;34m-\u001b[0m\u001b[0;36m2\u001b[0m\u001b[0;34m)\u001b[0m\u001b[0;34m\u001b[0m\u001b[0;34m\u001b[0m\u001b[0m\n\u001b[0m\u001b[1;32m      2\u001b[0m \u001b[0ms1\u001b[0m\u001b[0;34m\u001b[0m\u001b[0;34m\u001b[0m\u001b[0m\n",
            "\u001b[0;31mIndexError\u001b[0m: pop index out of range"
          ]
        }
      ]
    },
    {
      "cell_type": "code",
      "metadata": {
        "id": "6FOBtA3JtVwj"
      },
      "source": [
        "s1.append(200)\n",
        "\n",
        "s1.sort()\n",
        "s1"
      ],
      "execution_count": null,
      "outputs": []
    },
    {
      "cell_type": "code",
      "metadata": {
        "id": "NLwEjF7KINQR"
      },
      "source": [
        "#1/June/2021 \n"
      ],
      "execution_count": null,
      "outputs": []
    },
    {
      "cell_type": "code",
      "metadata": {
        "colab": {
          "base_uri": "https://localhost:8080/"
        },
        "id": "CEU5Zl6oIXi2",
        "outputId": "4ae5f9ee-bf02-4705-b6da-cf32eada0f5c"
      },
      "source": [
        "void=(1,2,4,3,6,5)\n",
        "if 78 in void:\n",
        "  print(\"SIX\")\n",
        "else:\n",
        "  print(\"number is invalid\")\n"
      ],
      "execution_count": null,
      "outputs": [
        {
          "output_type": "stream",
          "text": [
            "number is invalid\n"
          ],
          "name": "stdout"
        }
      ]
    },
    {
      "cell_type": "code",
      "metadata": {
        "colab": {
          "base_uri": "https://localhost:8080/"
        },
        "id": "VjiN1Ot7LTzo",
        "outputId": "b3e38bb4-de52-482d-8584-ad65e42ca707"
      },
      "source": [
        "s1=[1,3,2,4,7,3]\n",
        "if s1[2] is 2:\n",
        "  s1[2]=s1[3]\n",
        "s1\n"
      ],
      "execution_count": null,
      "outputs": [
        {
          "output_type": "execute_result",
          "data": {
            "text/plain": [
              "[1, 3, 4, 4, 7, 3]"
            ]
          },
          "metadata": {
            "tags": []
          },
          "execution_count": 19
        }
      ]
    },
    {
      "cell_type": "code",
      "metadata": {
        "id": "ml_6OXh-M5ia"
      },
      "source": [
        "#looping"
      ],
      "execution_count": null,
      "outputs": []
    },
    {
      "cell_type": "code",
      "metadata": {
        "colab": {
          "base_uri": "https://localhost:8080/"
        },
        "id": "TPaHtMQJM8Xs",
        "outputId": "0948a39e-701a-48f4-adbf-7ddc27b0b24c"
      },
      "source": [
        "i=1\n",
        "while i<=10:\n",
        "  print(i)\n",
        "  i=i+2;\n"
      ],
      "execution_count": null,
      "outputs": [
        {
          "output_type": "stream",
          "text": [
            "1\n",
            "3\n",
            "5\n",
            "7\n",
            "9\n"
          ],
          "name": "stdout"
        }
      ]
    },
    {
      "cell_type": "code",
      "metadata": {
        "id": "MMeupHbBxWYp"
      },
      "source": [
        "#2/June/2021"
      ],
      "execution_count": null,
      "outputs": []
    },
    {
      "cell_type": "code",
      "metadata": {
        "id": "svnH9BPqxciN"
      },
      "source": [
        ""
      ],
      "execution_count": null,
      "outputs": []
    },
    {
      "cell_type": "code",
      "metadata": {
        "id": "wzXZqS-lOQ_t",
        "colab": {
          "base_uri": "https://localhost:8080/"
        },
        "outputId": "ade7ee0b-0da7-42f1-852f-b6a2f97fbbc5"
      },
      "source": [
        "num=str(input(\"enter the number\"))\n",
        "if num :\n",
        "  print(\"bermuda\")\n",
        "else:\n",
        "  print(\"triangle\")"
      ],
      "execution_count": null,
      "outputs": [
        {
          "output_type": "stream",
          "text": [
            "enter the numbere\n",
            "bermuda\n"
          ],
          "name": "stdout"
        }
      ]
    },
    {
      "cell_type": "code",
      "metadata": {
        "id": "IucjZY6FlVPA"
      },
      "source": [
        ""
      ],
      "execution_count": null,
      "outputs": []
    },
    {
      "cell_type": "code",
      "metadata": {
        "colab": {
          "base_uri": "https://localhost:8080/"
        },
        "id": "l4uKbrT3lNcq",
        "outputId": "e29ec2b7-4bd4-4ca1-f2d5-d55f8699fd7d"
      },
      "source": [
        "num=int(input(\"Enter the number\"))\n",
        "fact=1\n",
        "if num < 0:\n",
        "  print(\"NUmber is invalid\")\n",
        "elif num==0:\n",
        "  print(\"Factorial is 1\")\n",
        "else:\n",
        "  for i in range(1,num+1):\n",
        "    fact=fact*i\n",
        "\n",
        "print(\"Factorial of a\", num, \"is\",fact)\n",
        "print(\"coder\")\n"
      ],
      "execution_count": null,
      "outputs": [
        {
          "output_type": "stream",
          "text": [
            "Enter the number5\n",
            "Factorial of a 5 is 120\n",
            "coder\n"
          ],
          "name": "stdout"
        }
      ]
    },
    {
      "cell_type": "code",
      "metadata": {
        "colab": {
          "base_uri": "https://localhost:8080/"
        },
        "id": "CYpbtV9ppySw",
        "outputId": "716e5889-6f77-486b-a953-d9c657d8ed7c"
      },
      "source": [
        "num=float(input(\"Enter the number\"))\n",
        "num_sqrt=num**0.5\n",
        "print(\"square root is\",num_sqrt)\n"
      ],
      "execution_count": null,
      "outputs": [
        {
          "output_type": "stream",
          "text": [
            "Enter the number3\n",
            "square root is 1.7320508075688772\n"
          ],
          "name": "stdout"
        }
      ]
    },
    {
      "cell_type": "code",
      "metadata": {
        "colab": {
          "base_uri": "https://localhost:8080/"
        },
        "id": "gIzujYZDrXY5",
        "outputId": "ce35ba97-b8e8-4975-b33d-df04a52fbcea"
      },
      "source": [
        "b=float(input(\"Enter the breadth\"))\n",
        "h=float(input(\"Enter the height\"))\n",
        "Area=0.5*b*h\n",
        "print(\"Area is\",Area,\"cm^2\")"
      ],
      "execution_count": null,
      "outputs": [
        {
          "output_type": "stream",
          "text": [
            "Enter the breadth5\n",
            "Enter the height8\n",
            "Area is 20.0 cm^2\n"
          ],
          "name": "stdout"
        }
      ]
    },
    {
      "cell_type": "code",
      "metadata": {
        "id": "hy4aoxWrsb6E"
      },
      "source": [
        "#area of a triangle with all three sides"
      ],
      "execution_count": null,
      "outputs": []
    },
    {
      "cell_type": "code",
      "metadata": {
        "colab": {
          "base_uri": "https://localhost:8080/"
        },
        "id": "bpIeRm2ts6Oo",
        "outputId": "298be854-11d5-4938-a745-2525c66e6635"
      },
      "source": [
        "A=float(input(\"Enter the Side A\"))\n",
        "B=float(input(\"Enter the Side B\"))\n",
        "C=float(input(\"Enter the Side C\"))\n",
        "sum=A+B+C\n",
        "S=sum*0.5\n",
        "Area=(S*(S-A)*(S-B)*(S-C))**0.5\n",
        "print(\"The area of the triangle is %0.3f\" %Area)\n"
      ],
      "execution_count": null,
      "outputs": [
        {
          "output_type": "stream",
          "text": [
            "Enter the Side A5\n",
            "Enter the Side B6\n",
            "Enter the Side C7\n",
            "The area of the triangle is 14.697\n"
          ],
          "name": "stdout"
        }
      ]
    },
    {
      "cell_type": "code",
      "metadata": {
        "id": "YwjY9yBVnGgQ"
      },
      "source": [
        "#quadratic equation"
      ],
      "execution_count": null,
      "outputs": []
    },
    {
      "cell_type": "code",
      "metadata": {
        "colab": {
          "base_uri": "https://localhost:8080/"
        },
        "id": "XiHX-15JxeVe",
        "outputId": "555694e1-475f-4d72-c1b8-07cb57a9adeb"
      },
      "source": [
        "a=1\n",
        "b=5\n",
        "c=6\n",
        "d=(b**2) - (4*a*c)\n",
        "sol1=(-b + d**0.5) / 2*a\n",
        "sol2=(-b - d**0.5 )/ 2*a\n",
        "print(sol1 ,sol2)\n",
        "\n"
      ],
      "execution_count": null,
      "outputs": [
        {
          "output_type": "stream",
          "text": [
            "-2.0 -3.0\n"
          ],
          "name": "stdout"
        }
      ]
    },
    {
      "cell_type": "code",
      "metadata": {
        "id": "wSAcy8nby-Oh"
      },
      "source": [
        "#Swaping\n"
      ],
      "execution_count": null,
      "outputs": []
    },
    {
      "cell_type": "code",
      "metadata": {
        "colab": {
          "base_uri": "https://localhost:8080/"
        },
        "id": "fixLhpyNzA2W",
        "outputId": "0a6100c2-e827-4c1a-837a-55ce7380a27f"
      },
      "source": [
        "a=10\n",
        "b=20\n",
        "temp=a\n",
        "a=b\n",
        "b=temp\n",
        "print(a,b)"
      ],
      "execution_count": null,
      "outputs": [
        {
          "output_type": "stream",
          "text": [
            "20 10\n"
          ],
          "name": "stdout"
        }
      ]
    },
    {
      "cell_type": "code",
      "metadata": {
        "colab": {
          "base_uri": "https://localhost:8080/"
        },
        "id": "Lssid45Z0Kr6",
        "outputId": "7ff8d54d-2766-47c7-d205-41ef904f318b"
      },
      "source": [
        "nterms = int(input(\"How many terms? \"))\n",
        "\n",
        "# first two terms\n",
        "n1, n2 = 0, 1\n",
        "count = 0\n",
        "\n",
        "# check if the number of terms is valid\n",
        "if nterms <= 0:\n",
        "   print(\"Please enter a positive integer\")\n",
        "elif nterms == 1:\n",
        "   print(\"Fibonacci sequence upto\",nterms,\":\")\n",
        "   print(n1)\n",
        "else:\n",
        "   print(\"Fibonacci sequence:\")\n",
        "   while count < nterms:\n",
        "       print(n1)\n",
        "       nth = n1 + n2\n",
        "       # update values\n",
        "       n1 = n2\n",
        "       n2 = nth\n",
        "       count += 1\n",
        "       "
      ],
      "execution_count": null,
      "outputs": [
        {
          "output_type": "stream",
          "text": [
            "How many terms? 1\n",
            "Fibonacci sequence upto 1 :\n",
            "0\n"
          ],
          "name": "stdout"
        }
      ]
    },
    {
      "cell_type": "code",
      "metadata": {
        "id": "eJP7QSPr7-QJ"
      },
      "source": [
        "#fibbonacci series"
      ],
      "execution_count": null,
      "outputs": []
    },
    {
      "cell_type": "code",
      "metadata": {
        "colab": {
          "base_uri": "https://localhost:8080/"
        },
        "id": "I4ibHFyz8B6x",
        "outputId": "412da4c1-b8a7-45a3-f6d9-907505abdb97"
      },
      "source": [
        "terms=int(input(\"enter the number\"))\n",
        "n1,n2=0,1\n",
        "count=0\n",
        "if terms <=0:\n",
        "  print(\"Enter valid number\")\n",
        "elif terms==1:\n",
        "  print(\"fibbonacie series of\",terms, \"is\")\n",
        "  print(n1)\n",
        "else:\n",
        "  print(\"required fibbonacii series is\")\n",
        "  while count < terms :\n",
        "    print(n1)\n",
        "    nth=n1+n2\n",
        "    n1=n2\n",
        "    n2=nth\n",
        "    count=count+1"
      ],
      "execution_count": 10,
      "outputs": [
        {
          "output_type": "stream",
          "text": [
            "enter the number12\n",
            "required fibbonacii series is\n",
            "0\n",
            "1\n",
            "1\n",
            "2\n",
            "3\n",
            "5\n",
            "8\n",
            "13\n",
            "21\n",
            "34\n",
            "55\n",
            "89\n"
          ],
          "name": "stdout"
        }
      ]
    },
    {
      "cell_type": "code",
      "metadata": {
        "id": "4SuaSwYWExTa"
      },
      "source": [
        "#armstrong\n"
      ],
      "execution_count": 21,
      "outputs": []
    },
    {
      "cell_type": "code",
      "metadata": {
        "colab": {
          "base_uri": "https://localhost:8080/"
        },
        "id": "e0UyYBdlFLnP",
        "outputId": "d0260435-3b64-4784-db5d-cf0c816d5287"
      },
      "source": [
        "num=int(input(\"Enter the number\"))\n",
        "order=len(str(num))\n",
        "sum=0\n",
        "temp=num\n",
        "while temp > 0:\n",
        "  digit=temp%10\n",
        "  sum+=digit**order\n",
        "  temp//=10\n",
        "if num==sum:\n",
        "  print(\"Yes\")\n",
        "else:\n",
        "  print(\"no\")\n"
      ],
      "execution_count": 23,
      "outputs": [
        {
          "output_type": "stream",
          "text": [
            "Enter the number153\n",
            "Yes\n"
          ],
          "name": "stdout"
        }
      ]
    },
    {
      "cell_type": "code",
      "metadata": {
        "id": "iJvpzlMrNCNz"
      },
      "source": [
        "#Reverse a number"
      ],
      "execution_count": 24,
      "outputs": []
    },
    {
      "cell_type": "code",
      "metadata": {
        "colab": {
          "base_uri": "https://localhost:8080/"
        },
        "id": "rh-Eq_JUNI_n",
        "outputId": "94d03d25-87ec-4873-cab3-7b7ca3dfb660"
      },
      "source": [
        "num=int(input(\"Enter the number\"))\n",
        "rev=0\n",
        "while num > 0:\n",
        "  digit= num % 10\n",
        "  rev=rev*10+digit\n",
        "  num//=10\n",
        "print(\"Rev of a number is\",rev)"
      ],
      "execution_count": 26,
      "outputs": [
        {
          "output_type": "stream",
          "text": [
            "Enter the number9876543210\n",
            "Rev of a number is 123456789\n"
          ],
          "name": "stdout"
        }
      ]
    },
    {
      "cell_type": "code",
      "metadata": {
        "id": "A6erXCfxPVDL"
      },
      "source": [
        "#to find the armstrong number in a range\n"
      ],
      "execution_count": 28,
      "outputs": []
    },
    {
      "cell_type": "code",
      "metadata": {
        "colab": {
          "base_uri": "https://localhost:8080/"
        },
        "id": "tyGczZLUPtLk",
        "outputId": "97d8ec31-5274-41b4-a8b1-74562f69fa54"
      },
      "source": [
        "min=int(input(\"ENTER min\"))\n",
        "max=int(input(\"enter MAX\"))\n",
        "for  num in range(min,max+1):\n",
        "  order=len(str(num))\n",
        "  sum=0\n",
        "  temp=num\n",
        "  while temp > 0:\n",
        "    digit=temp%10\n",
        "    sum+=digit**order\n",
        "    temp//=10\n",
        "  if num==sum:\n",
        "    print(\"Number is\",num)\n",
        "  \n"
      ],
      "execution_count": 34,
      "outputs": [
        {
          "output_type": "stream",
          "text": [
            "ENTER min100\n",
            "enter MAX20000\n",
            "Number is 153\n",
            "Number is 370\n",
            "Number is 371\n",
            "Number is 407\n",
            "Number is 1634\n",
            "Number is 8208\n",
            "Number is 9474\n"
          ],
          "name": "stdout"
        }
      ]
    }
  ]
}