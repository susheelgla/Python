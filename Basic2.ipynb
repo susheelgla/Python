{
  "nbformat": 4,
  "nbformat_minor": 0,
  "metadata": {
    "colab": {
      "name": "Basic2.ipynb",
      "provenance": [],
      "authorship_tag": "ABX9TyPg6q4ZalFNWo8lIk968fOI",
      "include_colab_link": true
    },
    "kernelspec": {
      "name": "python3",
      "display_name": "Python 3"
    },
    "language_info": {
      "name": "python"
    }
  },
  "cells": [
    {
      "cell_type": "markdown",
      "metadata": {
        "id": "view-in-github",
        "colab_type": "text"
      },
      "source": [
        "<a href=\"https://colab.research.google.com/github/susheelgla/Python/blob/main/Basic2.ipynb\" target=\"_parent\"><img src=\"https://colab.research.google.com/assets/colab-badge.svg\" alt=\"Open In Colab\"/></a>"
      ]
    },
    {
      "cell_type": "code",
      "metadata": {
        "id": "W6mU60KOmGBt"
      },
      "source": [
        "#Prime number"
      ],
      "execution_count": 1,
      "outputs": []
    },
    {
      "cell_type": "code",
      "metadata": {
        "colab": {
          "base_uri": "https://localhost:8080/"
        },
        "id": "qc0SylyMnE0N",
        "outputId": "2845a61c-4207-491c-dd95-ad1b3774ef79"
      },
      "source": [
        "num=int(input(\"Enter the number\"))\n",
        "i=1\n",
        "god=False\n",
        "for i in range(2,num):\n",
        "  rem= num % i\n",
        "  if rem==0:\n",
        "    god=True\n",
        "    break\n",
        "if god:\n",
        "  print(\"n\")\n",
        "else:\n",
        "  print(\"y\")"
      ],
      "execution_count": 12,
      "outputs": [
        {
          "output_type": "stream",
          "text": [
            "Enter the number3\n",
            "y\n"
          ],
          "name": "stdout"
        }
      ]
    },
    {
      "cell_type": "code",
      "metadata": {
        "id": "D8EqmWs2z_CE"
      },
      "source": [
        ""
      ],
      "execution_count": null,
      "outputs": []
    },
    {
      "cell_type": "code",
      "metadata": {
        "colab": {
          "base_uri": "https://localhost:8080/"
        },
        "id": "ttsHoZW7yd4-",
        "outputId": "789ebf13-66f3-41e4-ea77-80a9e3a47214"
      },
      "source": [
        "num=int(input(\"Enter\"))\n",
        "if num%2==0:\n",
        "  print(\"even\")\n",
        "else:\n",
        "  print(\"odd\")"
      ],
      "execution_count": 14,
      "outputs": [
        {
          "output_type": "stream",
          "text": [
            "Enter10\n",
            "even\n"
          ],
          "name": "stdout"
        }
      ]
    },
    {
      "cell_type": "code",
      "metadata": {
        "colab": {
          "base_uri": "https://localhost:8080/"
        },
        "id": "qxPrX32J0AfY",
        "outputId": "018e7cfc-f087-45f7-c9b1-b0657e1a65fb"
      },
      "source": [
        "#reverse \n",
        "num=int(input(\"Enter the number\"))\n",
        "rev=0\n",
        "while num > 0:\n",
        "  dig=num % 10\n",
        "  rev=rev*10+dig\n",
        "  num//=10\n",
        "print(rev)"
      ],
      "execution_count": 17,
      "outputs": [
        {
          "output_type": "stream",
          "text": [
            "Enter the number125\n",
            "521\n"
          ],
          "name": "stdout"
        }
      ]
    },
    {
      "cell_type": "code",
      "metadata": {
        "colab": {
          "base_uri": "https://localhost:8080/"
        },
        "id": "Pj3D6i0Y1PRg",
        "outputId": "67f533b4-4926-4f7a-c73f-4321b3a88ce1"
      },
      "source": [
        "#pallindrome\n",
        "num=int(input(\"Enter the number\"))\n",
        "rev=0\n",
        "temp=num\n",
        "while temp > 0:\n",
        "  dig=temp % 10\n",
        "  rev=rev*10+dig\n",
        "  temp//=10\n",
        "if rev==num:\n",
        "  print(\"true\")\n",
        "else:\n",
        "  print(\"false\")"
      ],
      "execution_count": 23,
      "outputs": [
        {
          "output_type": "stream",
          "text": [
            "Enter the number12111\n",
            "false\n"
          ],
          "name": "stdout"
        }
      ]
    },
    {
      "cell_type": "code",
      "metadata": {
        "colab": {
          "base_uri": "https://localhost:8080/"
        },
        "id": "-n8aSxsP2YvZ",
        "outputId": "8b266b0f-a1ef-4b8d-cc02-85cda9052b5a"
      },
      "source": [
        "num=int(input(\"Enter the number\"))\n",
        "n1=0\n",
        "n2=1\n",
        "c=0\n",
        "if num==0:\n",
        "  print(\"error\")\n",
        "elif num==1:\n",
        "  print(n1)\n",
        "else:\n",
        "  while c < num:\n",
        "    print(n1)\n",
        "    nth=n1+n2\n",
        "    n1=n2\n",
        "    n2=nth\n",
        "    c+=1\n"
      ],
      "execution_count": 28,
      "outputs": [
        {
          "output_type": "stream",
          "text": [
            "Enter the number11\n",
            "0\n",
            "1\n",
            "1\n",
            "2\n",
            "3\n",
            "5\n",
            "8\n",
            "13\n",
            "21\n",
            "34\n",
            "55\n"
          ],
          "name": "stdout"
        }
      ]
    }
  ]
}